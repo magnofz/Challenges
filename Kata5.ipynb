{
 "cells": [
  {
   "cell_type": "code",
   "execution_count": 11,
   "id": "b646d3db",
   "metadata": {},
   "outputs": [],
   "source": [
    "class User(object):\n",
    "    def __init__(self, name, balance, checking_account):\n",
    "        self.name = name\n",
    "        self.balance = balance\n",
    "        self.checking_account = checking_account\n",
    "        \n",
    "    def withdraw(self, money):\n",
    "        if money > self.balance:\n",
    "            raise ValueError(\"Not enough money\")\n",
    "        else:\n",
    "            self.balance = self.balance - money\n",
    "        return f'{self.name} has {self.balance}.'\n",
    "    \n",
    "    def check(self, other, money):\n",
    "        if other.balance < money:\n",
    "            raise ValueError(\"Not enough money\")\n",
    "        elif other.checking_account == False:\n",
    "            raise ValueError(\"Other user not available for checking\")\n",
    "        else:\n",
    "            self.balance = self.balance + money\n",
    "            other.balance = other.balance - money\n",
    "        return f'{self.name} has {self.balance} and {other.name} has {other.balance}.'\n",
    "    \n",
    "    def add_cash(self, money):       \n",
    "        self.balance = self.balance + money\n",
    "        return f'{self.name} has {self.balance}.'"
   ]
  },
  {
   "cell_type": "code",
   "execution_count": 12,
   "id": "71ef495d",
   "metadata": {},
   "outputs": [],
   "source": [
    "Jeff = User('Jeff', 70, True)\n",
    "Joe = User('Joe', 70, False)"
   ]
  },
  {
   "cell_type": "code",
   "execution_count": 13,
   "id": "8da4556e",
   "metadata": {},
   "outputs": [
    {
     "data": {
      "text/plain": [
       "'Jeff has 90.'"
      ]
     },
     "execution_count": 13,
     "metadata": {},
     "output_type": "execute_result"
    }
   ],
   "source": [
    "Jeff.add_cash(20)"
   ]
  },
  {
   "cell_type": "code",
   "execution_count": null,
   "id": "2ead6b71",
   "metadata": {},
   "outputs": [],
   "source": []
  }
 ],
 "metadata": {
  "kernelspec": {
   "display_name": "Python [conda env:jp_env] *",
   "language": "python",
   "name": "conda-env-jp_env-py"
  },
  "language_info": {
   "codemirror_mode": {
    "name": "ipython",
    "version": 3
   },
   "file_extension": ".py",
   "mimetype": "text/x-python",
   "name": "python",
   "nbconvert_exporter": "python",
   "pygments_lexer": "ipython3",
   "version": "3.10.9"
  }
 },
 "nbformat": 4,
 "nbformat_minor": 5
}
