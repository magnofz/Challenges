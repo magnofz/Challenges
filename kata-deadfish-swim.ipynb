{
 "cells": [
  {
   "cell_type": "markdown",
   "id": "62c2daad",
   "metadata": {},
   "source": [
    "Write a simple parser that will parse and run Deadfish.\n",
    "\n",
    "Deadfish has 4 commands, each 1 character long:\n",
    "\n",
    "i increments the value (initially 0)\n",
    "d decrements the value\n",
    "s squares the value\n",
    "o outputs the value into the return array\n",
    "Invalid characters should be ignored."
   ]
  },
  {
   "cell_type": "code",
   "execution_count": 1,
   "id": "48ca6c57",
   "metadata": {},
   "outputs": [],
   "source": [
    "def parse(st):\n",
    "    lista = []\n",
    "    n = 0\n",
    "    \n",
    "    for x in st:\n",
    "        if x == 'i': n += 1\n",
    "        elif x == 'd': n += -1\n",
    "        elif x == 's': n = n**2\n",
    "        elif x == 'o': lista.append(n)\n",
    "    \n",
    "    return lista"
   ]
  }
 ],
 "metadata": {
  "kernelspec": {
   "display_name": "Python [conda env:m1_env]",
   "language": "python",
   "name": "conda-env-m1_env-py"
  },
  "language_info": {
   "codemirror_mode": {
    "name": "ipython",
    "version": 3
   },
   "file_extension": ".py",
   "mimetype": "text/x-python",
   "name": "python",
   "nbconvert_exporter": "python",
   "pygments_lexer": "ipython3",
   "version": "3.10.9"
  }
 },
 "nbformat": 4,
 "nbformat_minor": 5
}
