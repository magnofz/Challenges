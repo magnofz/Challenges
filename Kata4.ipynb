{
 "cells": [
  {
   "cell_type": "code",
   "execution_count": 54,
   "id": "be9093d3",
   "metadata": {},
   "outputs": [],
   "source": [
    "import re\n",
    "web = 'http://google.com'"
   ]
  },
  {
   "cell_type": "code",
   "execution_count": 90,
   "id": "ce9eaf01",
   "metadata": {},
   "outputs": [],
   "source": [
    "def domain_name(web):\n",
    "    return web.split('//')[-1].split('www.')[-1].split('.')[0]"
   ]
  }
 ],
 "metadata": {
  "kernelspec": {
   "display_name": "Python [conda env:jp_env] *",
   "language": "python",
   "name": "conda-env-jp_env-py"
  },
  "language_info": {
   "codemirror_mode": {
    "name": "ipython",
    "version": 3
   },
   "file_extension": ".py",
   "mimetype": "text/x-python",
   "name": "python",
   "nbconvert_exporter": "python",
   "pygments_lexer": "ipython3",
   "version": "3.10.9"
  }
 },
 "nbformat": 4,
 "nbformat_minor": 5
}
