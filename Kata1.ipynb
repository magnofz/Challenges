{
 "cells": [
  {
   "cell_type": "markdown",
   "id": "b70206ec",
   "metadata": {},
   "source": [
    "Return the number (count) of vowels in the given string.\n",
    "\n",
    "We will consider a, e, i, o, u as vowels for this Kata (but not y).\n",
    "\n",
    "The input string will only consist of lower case letters and/or spaces."
   ]
  },
  {
   "cell_type": "code",
   "execution_count": null,
   "id": "3ce9d5b0",
   "metadata": {},
   "outputs": [],
   "source": [
    "def get_count(sentence):\n",
    "    count = 0\n",
    "\n",
    "    for i in range(len(sentence)):\n",
    "        if sentence[i] == 'a' or  sentence[i] == 'e' or  sentence[i] == 'i' or  sentence[i] == 'o' or  sentence[i] == 'u':\n",
    "            count += 1\n",
    "    return count"
   ]
  }
 ],
 "metadata": {
  "kernelspec": {
   "display_name": "Python [conda env:jp_env] *",
   "language": "python",
   "name": "conda-env-jp_env-py"
  },
  "language_info": {
   "codemirror_mode": {
    "name": "ipython",
    "version": 3
   },
   "file_extension": ".py",
   "mimetype": "text/x-python",
   "name": "python",
   "nbconvert_exporter": "python",
   "pygments_lexer": "ipython3",
   "version": "3.10.9"
  }
 },
 "nbformat": 4,
 "nbformat_minor": 5
}
