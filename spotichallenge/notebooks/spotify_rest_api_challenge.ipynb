{
 "cells": [
  {
   "cell_type": "markdown",
   "id": "ef05c1d6",
   "metadata": {},
   "source": [
    "![spotify_logo](../img/spotify_logo.png)\n",
    "\n",
    "# Spotify REST API Challenge\n",
    "\n",
    "__What to listen?__\n",
    "\n",
    "Create your own playlist based on the related artists and their most popular tracks using the [Spotify REST API](https://developer.spotify.com/)"
   ]
  },
  {
   "cell_type": "code",
   "execution_count": null,
   "id": "17a49776",
   "metadata": {},
   "outputs": [],
   "source": [
    "# Imports\n",
    "\n",
    "\n"
   ]
  },
  {
   "cell_type": "markdown",
   "id": "4e97884c",
   "metadata": {},
   "source": [
    "### Get access!!!\n",
    "\n",
    "Get your `client_id` and `client_secret` to generate your __token__ access"
   ]
  },
  {
   "cell_type": "code",
   "execution_count": null,
   "id": "7b5d2e52",
   "metadata": {},
   "outputs": [],
   "source": [
    "# Generate token with a POST request\n",
    "\n",
    "client_id = # CLIENT ID\n",
    "client_secret = # CLIENT SECRET\n",
    "auth_url = 'https://accounts.spotify.com/api/token'"
   ]
  },
  {
   "cell_type": "code",
   "execution_count": null,
   "id": "c7901d1e",
   "metadata": {},
   "outputs": [],
   "source": [
    "auth_response = requests.post(auth_url, {'grant_type': 'client_credentials',\n",
    "                                         'client_id': client_id,\n",
    "                                         'client_secret': client_secret}).json()"
   ]
  },
  {
   "cell_type": "code",
   "execution_count": null,
   "id": "262e7e18",
   "metadata": {},
   "outputs": [],
   "source": [
    "access_token = auth_response['access_token']\n",
    "auth_response"
   ]
  },
  {
   "cell_type": "markdown",
   "id": "e617caff",
   "metadata": {},
   "source": [
    "### Set your main variables!!!\n",
    "\n",
    "Set the `base_uri` (i.e.: end-point), parameters and `headers` for your __GET__ operations"
   ]
  },
  {
   "cell_type": "code",
   "execution_count": null,
   "id": "62e6d4fb",
   "metadata": {},
   "outputs": [],
   "source": [
    "# Base end-point construction\n",
    "\n",
    "base_url = 'https://api.spotify.com/v1/'\n",
    "resource = 'artists/'\n",
    "\n",
    "header_info = {'Authorization': 'Bearer {token}'.format(token=access_token)}"
   ]
  },
  {
   "cell_type": "markdown",
   "id": "16660a9b",
   "metadata": {},
   "source": [
    "### Create your new playlist!!!\n",
    "\n",
    "Use [`/related-artists`](https://developer.spotify.com/documentation/web-api/reference/#/operations/get-an-artists-related-artists) and [`/top-tracks`](https://developer.spotify.com/documentation/web-api/reference/#/operations/get-an-artists-top-tracks) in order to get the data that you need.\n",
    "\n",
    "__Here you have the different artists to start with:__\n",
    "\n",
    "- __Option 1:__ 0L8ExT028jH3ddEcZwqJJ5\n",
    "\n",
    "- __Option 2:__ 4Y7tXHSEejGu1vQ9bwDdXW\n",
    "\n",
    "- __Option 3:__ 6FBDaR13swtiWwGhX1WQsP\n",
    "\n",
    "- __Option 4:__ 0kyQwKHCZnKE7kTXkxXjrB\n",
    "\n",
    "- __Option 5:__ 2d0hyoQ5ynDBnkvAbJKORj\n",
    "\n",
    "- __Option 6:__ 3bgsNtcf5d5h9jbQbohfBK\n",
    "\n",
    "- __Option 7:__ 7mWCSSOYqm4E9mB7V4ot6S\n",
    "\n",
    "- __Option 8:__ 64KEffDW9EtZ1y2vBYgq8T\n",
    "\n",
    "- __Option 9:__ 4k1ELeJKT1ISyDv8JivPpB\n",
    "\n",
    "- __Option 10:__ 4Z8W4fKeB5YxbusRsdQVPb\n",
    "\n",
    "- __Option 11:__ 26dSoYclwsYLMAKD3tpOr4\n",
    "\n",
    "- __Option 12:__ 7y97mc3bZRFXzT2szRM4L4\n",
    "\n",
    "- __Option 13:__ 1w5Kfo2jwwIPruYS2UWh56\n",
    "\n",
    "\n",
    "> Remember to check the [Requests](https://requests.readthedocs.io/en/latest/) library docs!!!\n",
    "\n",
    "---"
   ]
  },
  {
   "cell_type": "code",
   "execution_count": null,
   "id": "04f85940",
   "metadata": {},
   "outputs": [],
   "source": [
    "# Here you can complete your endpoint URI\n",
    "\n",
    "full_endpoint = \n",
    "full_endpoint"
   ]
  },
  {
   "cell_type": "code",
   "execution_count": null,
   "id": "50ec3959",
   "metadata": {},
   "outputs": [],
   "source": [
    "# Start building your playlist!!!\n",
    "\n",
    "\n"
   ]
  },
  {
   "cell_type": "markdown",
   "id": "98827be6",
   "metadata": {},
   "source": [
    "---\n",
    "\n",
    "### Bonus track!!!\n",
    "\n",
    "You can publish your own Playlist with [`/playlists`](https://developer.spotify.com/documentation/web-api/reference/#/operations/create-playlist) and [`/tracks`](https://developer.spotify.com/documentation/web-api/reference/#/operations/add-tracks-to-playlist).\n",
    "\n",
    "![I quit](https://media.giphy.com/media/gui67fZ3xIneM/giphy.gif)"
   ]
  },
  {
   "cell_type": "code",
   "execution_count": null,
   "id": "2e5f0905",
   "metadata": {},
   "outputs": [],
   "source": [
    "# Bonus\n",
    "\n",
    "\n"
   ]
  },
  {
   "cell_type": "markdown",
   "id": "9436b623",
   "metadata": {},
   "source": [
    "---"
   ]
  },
  {
   "cell_type": "markdown",
   "id": "a9487ef7",
   "metadata": {},
   "source": [
    "You can always try with the [wrapper](https://github.com/plamere/spotipy)!!!\n",
    "\n",
    "![I quit](https://media.giphy.com/media/3oFzlXPvXYZ4q8VQOs/giphy.gif)"
   ]
  },
  {
   "cell_type": "markdown",
   "id": "0a399ce8",
   "metadata": {},
   "source": [
    "---"
   ]
  }
 ],
 "metadata": {
  "kernelspec": {
   "display_name": "Python [conda env:.conda-ironhack]",
   "language": "python",
   "name": "conda-env-.conda-ironhack-py"
  },
  "language_info": {
   "codemirror_mode": {
    "name": "ipython",
    "version": 3
   },
   "file_extension": ".py",
   "mimetype": "text/x-python",
   "name": "python",
   "nbconvert_exporter": "python",
   "pygments_lexer": "ipython3",
   "version": "3.7.11"
  }
 },
 "nbformat": 4,
 "nbformat_minor": 5
}
