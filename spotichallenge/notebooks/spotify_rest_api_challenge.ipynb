{
 "cells": [
  {
   "cell_type": "markdown",
   "id": "ef05c1d6",
   "metadata": {},
   "source": [
    "![spotify_logo](../img/spotify_logo.png)\n",
    "\n",
    "# Spotify REST API Challenge\n",
    "\n",
    "__What to listen?__\n",
    "\n",
    "Create your own playlist based on the related artists and their most popular tracks using the [Spotify REST API](https://developer.spotify.com/)"
   ]
  },
  {
   "cell_type": "code",
   "execution_count": 1,
   "id": "17a49776",
   "metadata": {},
   "outputs": [],
   "source": [
    "# Imports\n",
    "import pandas as pd\n",
    "import requests\n",
    "import json"
   ]
  },
  {
   "cell_type": "markdown",
   "id": "4e97884c",
   "metadata": {},
   "source": [
    "### Get access!!!\n",
    "\n",
    "Get your `client_id` and `client_secret` to generate your __token__ access"
   ]
  },
  {
   "cell_type": "code",
   "execution_count": 2,
   "id": "7b5d2e52",
   "metadata": {},
   "outputs": [],
   "source": [
    "# Generate token with a POST request\n",
    "\n",
    "client_id = '' # CLIENT ID\n",
    "client_secret = '' # CLIENT SECRET\n",
    "auth_url = 'https://accounts.spotify.com/api/token'"
   ]
  },
  {
   "cell_type": "code",
   "execution_count": 3,
   "id": "c7901d1e",
   "metadata": {},
   "outputs": [],
   "source": [
    "auth_response = requests.post(auth_url, {'grant_type': 'client_credentials',\n",
    "                                         'client_id': client_id,\n",
    "                                         'client_secret': client_secret}).json()"
   ]
  },
  {
   "cell_type": "code",
   "execution_count": 5,
   "id": "262e7e18",
   "metadata": {},
   "outputs": [
    {
     "data": {
      "text/plain": [
       "'BQB9Z0stVz5jNMpVVW4BDO_2mGTfxDv3qMNX0_I5C_TPbvHQq8Efgv0kVcPpc7eFkkBVKTM7RouM5szKf7p81RW8co3hYKMpQ5B6i4A6Ty3tL-NPv8hs'"
      ]
     },
     "execution_count": 5,
     "metadata": {},
     "output_type": "execute_result"
    }
   ],
   "source": [
    "access_token = auth_response['access_token']"
   ]
  },
  {
   "cell_type": "markdown",
   "id": "e617caff",
   "metadata": {},
   "source": [
    "### Set your main variables!!!\n",
    "\n",
    "Set the `base_uri` (i.e.: end-point), parameters and `headers` for your __GET__ operations"
   ]
  },
  {
   "cell_type": "code",
   "execution_count": 9,
   "id": "62e6d4fb",
   "metadata": {},
   "outputs": [],
   "source": [
    "# Base end-point construction\n",
    "\n",
    "base_url = 'https://api.spotify.com/v1/'\n",
    "resource = 'artists/'\n",
    "resource_2 = 'users/'\n",
    "resource_3 = 'playlists/'\n",
    "artist = '4Z8W4fKeB5YxbusRsdQVPb'\n",
    "r1_related = '/related-artists'\n",
    "r2_top = '/top-tracks?country=ES'\n",
    "r3_list = '/playlists'\n",
    "r4_tracks = '/tracks'\n",
    "user_id = 'mfz86'\n",
    "\n",
    "\n",
    "header_info = {'Authorization': 'Bearer {token}'.format(token=access_token)}"
   ]
  },
  {
   "cell_type": "markdown",
   "id": "16660a9b",
   "metadata": {},
   "source": [
    "### Create your new playlist!!!\n",
    "\n",
    "Use [`/related-artists`](https://developer.spotify.com/documentation/web-api/reference/#/operations/get-an-artists-related-artists) and [`/top-tracks`](https://developer.spotify.com/documentation/web-api/reference/#/operations/get-an-artists-top-tracks) in order to get the data that you need.\n",
    "\n",
    "__Here you have the different artists to start with:__\n",
    "\n",
    "- __Option 1:__ 0L8ExT028jH3ddEcZwqJJ5\n",
    "\n",
    "- __Option 2:__ 4Y7tXHSEejGu1vQ9bwDdXW\n",
    "\n",
    "- __Option 3:__ 6FBDaR13swtiWwGhX1WQsP\n",
    "\n",
    "- __Option 4:__ 0kyQwKHCZnKE7kTXkxXjrB\n",
    "\n",
    "- __Option 5:__ 2d0hyoQ5ynDBnkvAbJKORj\n",
    "\n",
    "- __Option 6:__ 3bgsNtcf5d5h9jbQbohfBK\n",
    "\n",
    "- __Option 7:__ 7mWCSSOYqm4E9mB7V4ot6S\n",
    "\n",
    "- __Option 8:__ 64KEffDW9EtZ1y2vBYgq8T\n",
    "\n",
    "- __Option 9:__ 4k1ELeJKT1ISyDv8JivPpB\n",
    "\n",
    "- __Option 10:__ 4Z8W4fKeB5YxbusRsdQVPb\n",
    "\n",
    "- __Option 11:__ 26dSoYclwsYLMAKD3tpOr4\n",
    "\n",
    "- __Option 12:__ 7y97mc3bZRFXzT2szRM4L4\n",
    "\n",
    "- __Option 13:__ 1w5Kfo2jwwIPruYS2UWh56\n",
    "\n",
    "\n",
    "> Remember to check the [Requests](https://requests.readthedocs.io/en/latest/) library docs!!!\n",
    "\n",
    "---"
   ]
  },
  {
   "cell_type": "code",
   "execution_count": 10,
   "id": "b5e71d05",
   "metadata": {},
   "outputs": [
    {
     "data": {
      "text/plain": [
       "'https://api.spotify.com/v1/artists/4Z8W4fKeB5YxbusRsdQVPb'"
      ]
     },
     "execution_count": 10,
     "metadata": {},
     "output_type": "execute_result"
    }
   ],
   "source": [
    "# Here you can complete your endpoint URI\n",
    "full_endpoint = base_url + resource + artist\n",
    "full_endpoint"
   ]
  },
  {
   "cell_type": "code",
   "execution_count": 11,
   "id": "50ec3959",
   "metadata": {},
   "outputs": [
    {
     "name": "stdout",
     "output_type": "stream",
     "text": [
      "4Z8W4fKeB5YxbusRsdQVPb\n",
      "Radiohead\n"
     ]
    },
    {
     "data": {
      "text/plain": [
       "dict_keys(['external_urls', 'followers', 'genres', 'href', 'id', 'images', 'name', 'popularity', 'type', 'uri'])"
      ]
     },
     "execution_count": 11,
     "metadata": {},
     "output_type": "execute_result"
    }
   ],
   "source": [
    "# Start building your playlist!!!\n",
    "requests.get(full_endpoint, headers=header_info)\n",
    "a1_json = requests.get(full_endpoint, headers=header_info).json()\n",
    "print(a1_json['id'])\n",
    "print(a1_json['name'])\n",
    "a1_json.keys()"
   ]
  },
  {
   "cell_type": "code",
   "execution_count": 12,
   "id": "9df898a9",
   "metadata": {},
   "outputs": [],
   "source": [
    "related = requests.get(full_endpoint + r1_related, headers=header_info).json()\n",
    "\n",
    "#lista de artista + relacionados:\n",
    "r_artists = [related['artists'][a]['id'] for a in range(len(related['artists']))]\n",
    "r_artists.append(a1_json['id'])"
   ]
  },
  {
   "cell_type": "code",
   "execution_count": 15,
   "id": "444596ce",
   "metadata": {},
   "outputs": [
    {
     "data": {
      "text/plain": [
       "{'external_urls': {'spotify': 'https://open.spotify.com/artist/4CvTDPKA6W06DRfBnZKrau'},\n",
       " 'followers': {'href': None, 'total': 912691},\n",
       " 'genres': ['electronica', 'glitch pop', 'indie rock', 'oxford indie'],\n",
       " 'href': 'https://api.spotify.com/v1/artists/4CvTDPKA6W06DRfBnZKrau',\n",
       " 'id': '4CvTDPKA6W06DRfBnZKrau',\n",
       " 'images': [{'height': 640,\n",
       "   'url': 'https://i.scdn.co/image/ab6761610000e5eb3153f6fe26063cfcbfc57677',\n",
       "   'width': 640},\n",
       "  {'height': 320,\n",
       "   'url': 'https://i.scdn.co/image/ab676161000051743153f6fe26063cfcbfc57677',\n",
       "   'width': 320},\n",
       "  {'height': 160,\n",
       "   'url': 'https://i.scdn.co/image/ab6761610000f1783153f6fe26063cfcbfc57677',\n",
       "   'width': 160}],\n",
       " 'name': 'Thom Yorke',\n",
       " 'popularity': 60,\n",
       " 'type': 'artist',\n",
       " 'uri': 'spotify:artist:4CvTDPKA6W06DRfBnZKrau'}"
      ]
     },
     "execution_count": 15,
     "metadata": {},
     "output_type": "execute_result"
    }
   ],
   "source": [
    "related['artists'][0]"
   ]
  },
  {
   "cell_type": "code",
   "execution_count": 16,
   "id": "dc782551",
   "metadata": {},
   "outputs": [],
   "source": [
    "track_id = []\n",
    "track_name = []\n",
    "track_uri = []\n",
    "track_pop = []\n",
    "\n",
    "for rel in r_artists:\n",
    "    track = requests.get(base_url + resource + rel + r2_top, headers=header_info).json()\n",
    "    \n",
    "    id_list = [track['tracks'][t]['id'] for t in range(len(track['tracks']))]\n",
    "    name = [track['tracks'][t]['name'] for t in range(len(track['tracks']))]\n",
    "    uri = [track['tracks'][t]['uri'] for t in range(len(track['tracks']))]\n",
    "    pop = [track['tracks'][t]['popularity'] for t in range(len(track['tracks']))]\n",
    "    \n",
    "    track_id = track_id + id_list\n",
    "    track_name = track_name + name\n",
    "    track_uri = track_uri + uri\n",
    "    track_pop = track_pop + pop"
   ]
  },
  {
   "cell_type": "code",
   "execution_count": 44,
   "id": "d6a5f9c0",
   "metadata": {},
   "outputs": [],
   "source": [
    "playslist = pd.DataFrame(list(zip(track_name, track_pop, track_uri, track_id)),\n",
    "                         columns=['Name', 'Popularity', 'uri', 'Id']).sort_values('Popularity', ascending=False, ignore_index=True)"
   ]
  },
  {
   "cell_type": "code",
   "execution_count": 49,
   "id": "f80bc470",
   "metadata": {},
   "outputs": [],
   "source": [
    "track_uri_final = list(playslist['uri'])"
   ]
  },
  {
   "cell_type": "markdown",
   "id": "98827be6",
   "metadata": {},
   "source": [
    "---\n",
    "\n",
    "### Bonus track!!!\n",
    "\n",
    "You can publish your own Playlist with [`/playlists`](https://developer.spotify.com/documentation/web-api/reference/#/operations/create-playlist) and [`/tracks`](https://developer.spotify.com/documentation/web-api/reference/#/operations/add-tracks-to-playlist).\n",
    "\n",
    "![I quit](https://media.giphy.com/media/gui67fZ3xIneM/giphy.gif)"
   ]
  },
  {
   "cell_type": "markdown",
   "id": "b42d6db2",
   "metadata": {},
   "source": [
    "## CREATE NEW PLAYLIST"
   ]
  },
  {
   "cell_type": "code",
   "execution_count": 55,
   "id": "2e5f0905",
   "metadata": {},
   "outputs": [
    {
     "data": {
      "text/plain": [
       "'https://api.spotify.com/v1/users/mfz86/playlists'"
      ]
     },
     "execution_count": 55,
     "metadata": {},
     "output_type": "execute_result"
    }
   ],
   "source": [
    "endpoint_pl = base_url + resource_2 + user_id + r3_list\n",
    "endpoint_pl"
   ]
  },
  {
   "cell_type": "code",
   "execution_count": 64,
   "id": "2694c987",
   "metadata": {},
   "outputs": [],
   "source": [
    "token_2 = ''\n",
    "\n",
    "header_info_2 = {'Authorization': 'Bearer {token}'.format(token=token_2)}"
   ]
  },
  {
   "cell_type": "code",
   "execution_count": 65,
   "id": "2f61cd5c",
   "metadata": {},
   "outputs": [],
   "source": [
    "# new_pl = \"{'name': 'Ironhack', 'description': 'Ironhack', 'public': False}\"\n",
    "new_pl = json.dumps({'name': 'Radiohead alike', 'description': 'Rock', 'public': False})"
   ]
  },
  {
   "cell_type": "code",
   "execution_count": 66,
   "id": "3d2fcc5c",
   "metadata": {},
   "outputs": [],
   "source": [
    "new_pl = requests.post(endpoint_pl, data=new_pl, headers=header_info_2).json()"
   ]
  },
  {
   "cell_type": "code",
   "execution_count": 68,
   "id": "a8000b20",
   "metadata": {},
   "outputs": [],
   "source": [
    "pl_id = new_pl['id']"
   ]
  },
  {
   "cell_type": "markdown",
   "id": "43e55315",
   "metadata": {},
   "source": [
    "## Add Tracks"
   ]
  },
  {
   "cell_type": "code",
   "execution_count": 69,
   "id": "caf3cd70",
   "metadata": {},
   "outputs": [
    {
     "data": {
      "text/plain": [
       "'https://api.spotify.com/v1/playlists/3waHquC8RwiDv2vT0OGfi9/tracks'"
      ]
     },
     "execution_count": 69,
     "metadata": {},
     "output_type": "execute_result"
    }
   ],
   "source": [
    "endpoint_add = base_url + resource_3 + pl_id + r4_tracks\n",
    "endpoint_add"
   ]
  },
  {
   "cell_type": "code",
   "execution_count": 79,
   "id": "da479b82",
   "metadata": {},
   "outputs": [],
   "source": [
    "for u in track_uri_final:\n",
    "    data = json.dumps({'uris': [u]})\n",
    "    requests.post(endpoint_add, data=data, headers=header_info_2)"
   ]
  },
  {
   "cell_type": "markdown",
   "id": "9436b623",
   "metadata": {},
   "source": [
    "---"
   ]
  },
  {
   "cell_type": "markdown",
   "id": "a9487ef7",
   "metadata": {},
   "source": [
    "You can always try with the [wrapper](https://github.com/plamere/spotipy)!!!\n",
    "\n",
    "![I quit](https://media.giphy.com/media/3oFzlXPvXYZ4q8VQOs/giphy.gif)"
   ]
  },
  {
   "cell_type": "markdown",
   "id": "0a399ce8",
   "metadata": {},
   "source": [
    "---"
   ]
  }
 ],
 "metadata": {
  "kernelspec": {
   "display_name": "Python [conda env:m1_env]",
   "language": "python",
   "name": "conda-env-m1_env-py"
  },
  "language_info": {
   "codemirror_mode": {
    "name": "ipython",
    "version": 3
   },
   "file_extension": ".py",
   "mimetype": "text/x-python",
   "name": "python",
   "nbconvert_exporter": "python",
   "pygments_lexer": "ipython3",
   "version": "3.10.9"
  }
 },
 "nbformat": 4,
 "nbformat_minor": 5
}
