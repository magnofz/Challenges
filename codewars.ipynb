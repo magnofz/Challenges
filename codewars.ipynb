{
 "cells": [
  {
   "cell_type": "markdown",
   "id": "0cceb40c",
   "metadata": {},
   "source": [
    "Entra un número\n",
    "Transformar en str\n",
    "calcular fac de cada digito\n",
    "sumar factoriales\n",
    "comparar con número de entrada\n"
   ]
  },
  {
   "cell_type": "code",
   "execution_count": 11,
   "id": "d6cfc91e",
   "metadata": {},
   "outputs": [
    {
     "name": "stdout",
     "output_type": "stream",
     "text": [
      "STRONG!!!!\n"
     ]
    }
   ],
   "source": [
    "num = 145\n",
    "suma = 0\n",
    "\n",
    "fac = 1\n",
    "\n",
    "for digit in str(num):\n",
    "    for i in range(1, int(digit) + 1):\n",
    "        fac *= i\n",
    "    suma += fac\n",
    "    fac = 1\n",
    "\n",
    "if suma == num:\n",
    "    print('STRONG!!!!')\n",
    "else:\n",
    "    print('Not Strong !!')"
   ]
  },
  {
   "cell_type": "code",
   "execution_count": 27,
   "id": "bc55f580",
   "metadata": {},
   "outputs": [
    {
     "data": {
      "text/plain": [
       "True"
      ]
     },
     "execution_count": 27,
     "metadata": {},
     "output_type": "execute_result"
    }
   ],
   "source": [
    "x = 122\n",
    "z = 23\n",
    "\n",
    "\n",
    "sum(int(i) for i in str(x)) == 5\n"
   ]
  },
  {
   "cell_type": "code",
   "execution_count": 18,
   "id": "ec0b472a",
   "metadata": {},
   "outputs": [
    {
     "name": "stdout",
     "output_type": "stream",
     "text": [
      "* \n",
      "* * \n",
      "* * * \n",
      "* * * * \n",
      "* * * * * \n"
     ]
    }
   ],
   "source": [
    "# for loop\n",
    "\n",
    "rows = 5\n",
    "# outer loop\n",
    "for i in range(rows):\n",
    "    for j in range(i + 1):\n",
    "        print(\"*\", end=\" \")\n",
    "    print('')"
   ]
  }
 ],
 "metadata": {
  "kernelspec": {
   "display_name": "Python [conda env:m1_env]",
   "language": "python",
   "name": "conda-env-m1_env-py"
  },
  "language_info": {
   "codemirror_mode": {
    "name": "ipython",
    "version": 3
   },
   "file_extension": ".py",
   "mimetype": "text/x-python",
   "name": "python",
   "nbconvert_exporter": "python",
   "pygments_lexer": "ipython3",
   "version": "3.10.9"
  }
 },
 "nbformat": 4,
 "nbformat_minor": 5
}
