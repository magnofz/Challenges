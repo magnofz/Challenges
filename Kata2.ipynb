{
 "cells": [
  {
   "cell_type": "markdown",
   "id": "a3eb0dd4",
   "metadata": {},
   "source": [
    "A balanced number is a number where the sum of digits to the left of the middle digit(s) and the sum of digits to the right of the middle digit(s) are equal.\n",
    "\n",
    "If the number has an odd number of digits, then there is only one middle digit. (For example, 92645 has one middle digit, 6.) Otherwise, there are two middle digits. (For example, the middle digits of 1301 are 3 and 0.)\n",
    "\n",
    "The middle digit(s) should not be considered when determining whether a number is balanced or not, e.g. 413023 is a balanced number because the left sum and right sum are both 5.\n",
    "\n",
    "The task\n",
    "Given a number, find if it is balanced, and return the string \"Balanced\" or \"Not Balanced\" accordingly. The passed number will always be positive."
   ]
  },
  {
   "cell_type": "code",
   "execution_count": 22,
   "id": "6cb645ac",
   "metadata": {},
   "outputs": [
    {
     "data": {
      "text/plain": [
       "'Not Balanced'"
      ]
     },
     "execution_count": 22,
     "metadata": {},
     "output_type": "execute_result"
    }
   ],
   "source": [
    "def balanced_num(number):\n",
    "    n_string = str(number)\n",
    "    n_digit = 0\n",
    "    mitad_1 = 0\n",
    "    mitad_2 = 0\n",
    "\n",
    "    if len(n_string) < 3:\n",
    "        return 'Balanced'\n",
    "\n",
    "    else:\n",
    "        if len(n_string) % 2 == 1:\n",
    "            n_digit = int((len(n_string))/2)\n",
    "        elif len(n_string) % 2 == 0:\n",
    "            n_digit = int((len(n_string)/2)-1)\n",
    "            \n",
    "        for i in n_string[0:n_digit]:\n",
    "            mitad_1 += int(i)\n",
    "    \n",
    "        for i in n_string[-n_digit:len(n_string)]:\n",
    "            mitad_2 += int(i)\n",
    "    \n",
    "        if mitad_1 == mitad_2:\n",
    "            return \"Balanced\"\n",
    "        elif mitad_1 != mitad_2:\n",
    "            return \"Not Balanced\"\n",
    "\n",
    "balanced_num(5486957)"
   ]
  },
  {
   "cell_type": "code",
   "execution_count": 33,
   "id": "d6f99b43",
   "metadata": {},
   "outputs": [
    {
     "name": "stdout",
     "output_type": "stream",
     "text": [
      "3\n",
      "3.5\n"
     ]
    }
   ],
   "source": [
    "\n",
    "s = \"99899579\"\n",
    "l = (len(s)-1)//2\n",
    "m = (len(s)-1)/2\n",
    "print(l)\n",
    "print(m)"
   ]
  },
  {
   "cell_type": "code",
   "execution_count": 32,
   "id": "bdefa44b",
   "metadata": {},
   "outputs": [
    {
     "data": {
      "text/plain": [
       "True"
      ]
     },
     "execution_count": 32,
     "metadata": {},
     "output_type": "execute_result"
    }
   ],
   "source": [
    "same = len(s) < 3 or sum(map(int, s[:l])) == sum(map(int, s[-l:]))\n",
    "same"
   ]
  }
 ],
 "metadata": {
  "kernelspec": {
   "display_name": "Python [conda env:m1_env]",
   "language": "python",
   "name": "conda-env-m1_env-py"
  },
  "language_info": {
   "codemirror_mode": {
    "name": "ipython",
    "version": 3
   },
   "file_extension": ".py",
   "mimetype": "text/x-python",
   "name": "python",
   "nbconvert_exporter": "python",
   "pygments_lexer": "ipython3",
   "version": "3.10.9"
  }
 },
 "nbformat": 4,
 "nbformat_minor": 5
}
