{
 "cells": [
  {
   "cell_type": "markdown",
   "id": "998ce63d",
   "metadata": {},
   "source": [
    "You managed to send your friend to queue for tickets in your stead, but there is a catch: he will get there only if you tell him how much that is going to take. And everybody can only take one ticket at a time, then they go back in the last position of the queue if they need more (or go home if they are fine).\n",
    "\n",
    "Each ticket takes one minutes to emit, the queue is well disciplined, Brit-style, and so it moves smoothly, with no waste of time.\n",
    "\n",
    "You will be given an array/list/vector with all the people queuing and the initial position of your buddy, so for example, knowing that your friend is in the third position (that we will consider equal to the index, 2 (3 in COBOL): he is the guy that wants 3 tickets!) and the initial queue is [2, 5, 3, 4, 6].\n",
    "\n",
    "The first dude gets his ticket and the queue goes now like this [5, 3, 4, 6, 1], then [3, 4, 6, 1, 4] and so on. In the end, our buddy will be queuing for 12 minutes, true story!\n",
    "\n",
    "Build a function to compute it, resting assured that only positive integers are going to be there and you will be always given a valid index; but we also want to go to pretty popular events, so be ready for big queues with people getting plenty of tickets."
   ]
  },
  {
   "cell_type": "code",
   "execution_count": 64,
   "id": "dd41d9fb",
   "metadata": {},
   "outputs": [
    {
     "data": {
      "text/plain": [
       "18"
      ]
     },
     "execution_count": 64,
     "metadata": {},
     "output_type": "execute_result"
    }
   ],
   "source": [
    "list_1 =[2, 5, 3, 6, 4]\n",
    "pos = 1\n",
    "time = list_1[pos]\n",
    "\n",
    "for i in range(len(list_1)):\n",
    "    if i < pos:\n",
    "        if list_1[i] <= list_1[pos]:\n",
    "            time += list_1[i]\n",
    "        else:\n",
    "            time += list_1[pos]\n",
    "    elif i > pos:\n",
    "        if list_1[i] < list_1[pos]:\n",
    "            time += list_1[i]\n",
    "        else:\n",
    "            time += list_1[pos] -1\n",
    "\n",
    "time"
   ]
  },
  {
   "cell_type": "code",
   "execution_count": null,
   "id": "f28d088d",
   "metadata": {},
   "outputs": [],
   "source": [
    "def queue(queuers,pos):\n",
    "    return sum(min(queuer, queuers[pos] - (place > pos)) for place, queuer in enumerate(queuers))"
   ]
  },
  {
   "cell_type": "code",
   "execution_count": 65,
   "id": "5bb6fcae",
   "metadata": {},
   "outputs": [],
   "source": [
    "import re\n",
    "web = 'www.google.co.uk'\n",
    "\n",
    "reg_exp_1 = '(?<=www.)\\S(?=\\.)(.*?)'\n",
    "reg_exp_2 = '(?<=\\\\)\\S(?=\\.)(.*?)'\n",
    "\n",
    "if 'www.' in web:\n",
    "    re.findall(reg_exp_1, web)\n",
    "else:\n",
    "    re.findall(reg_exp_2, web)"
   ]
  },
  {
   "cell_type": "code",
   "execution_count": 66,
   "id": "e89c014b",
   "metadata": {},
   "outputs": [],
   "source": [
    "def dominio(web):\n",
    "    import re\n",
    "    reg_exp_1 = '(?<=www.)\\S*(?=\\.)'\n",
    "    reg_exp_2 = '(?<=\\\\)\\S*(?=\\.)'\n",
    "    \n",
    "    if 'www.' in web:\n",
    "        return re.findall(reg_exp_1, web)\n",
    "    else:\n",
    "        return re.findall(reg_exp_2, web)"
   ]
  },
  {
   "cell_type": "code",
   "execution_count": 69,
   "id": "350d5fa6",
   "metadata": {},
   "outputs": [
    {
     "data": {
      "text/plain": [
       "['google.co']"
      ]
     },
     "execution_count": 69,
     "metadata": {},
     "output_type": "execute_result"
    }
   ],
   "source": [
    "dominio('www.google.co.uk')"
   ]
  },
  {
   "cell_type": "code",
   "execution_count": 71,
   "id": "1c715c57",
   "metadata": {},
   "outputs": [
    {
     "data": {
      "text/plain": [
       "'tsst'"
      ]
     },
     "execution_count": 71,
     "metadata": {},
     "output_type": "execute_result"
    }
   ],
   "source": [
    "y ='TSst'\n",
    "y.lower()"
   ]
  }
 ],
 "metadata": {
  "kernelspec": {
   "display_name": "Python [conda env:jp_env] *",
   "language": "python",
   "name": "conda-env-jp_env-py"
  },
  "language_info": {
   "codemirror_mode": {
    "name": "ipython",
    "version": 3
   },
   "file_extension": ".py",
   "mimetype": "text/x-python",
   "name": "python",
   "nbconvert_exporter": "python",
   "pygments_lexer": "ipython3",
   "version": "3.10.9"
  }
 },
 "nbformat": 4,
 "nbformat_minor": 5
}
