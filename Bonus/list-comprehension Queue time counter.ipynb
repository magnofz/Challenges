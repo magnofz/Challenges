{
 "cells": [
  {
   "cell_type": "markdown",
   "id": "98372b0c",
   "metadata": {},
   "source": [
    "You managed to send your friend to queue for tickets in your stead, but there is a catch: he will get there only if you tell him how much that is going to take. And everybody can only take one ticket at a time, then they go back in the last position of the queue if they need more (or go home if they are fine).\n",
    "\n",
    "Each ticket takes one minutes to emit, the queue is well disciplined, Brit-style, and so it moves smoothly, with no waste of time.\n",
    "\n",
    "You will be given an array/list/vector with all the people queuing and the initial position of your buddy, so for example, knowing that your friend is in the third position (that we will consider equal to the index, 2 (3 in COBOL): he is the guy that wants 3 tickets!) and the initial queue is [2, 5, 3, 4, 6].\n",
    "\n",
    "The first dude gets his ticket and the queue goes now like this [5, 3, 4, 6, 1], then [3, 4, 6, 1, 4] and so on. In the end, our buddy will be queuing for 12 minutes, true story!\n",
    "\n",
    "Build a function to compute it, resting assured that only positive integers are going to be there and you will be always given a valid index; but we also want to go to pretty popular events, so be ready for big queues with people getting plenty of tickets."
   ]
  },
  {
   "cell_type": "code",
   "execution_count": 47,
   "id": "daebe59d",
   "metadata": {},
   "outputs": [
    {
     "name": "stdout",
     "output_type": "stream",
     "text": [
      "2\n",
      "5\n",
      "3\n",
      "6\n"
     ]
    }
   ],
   "source": [
    "list_1 =[2, 5, 3, 6, 4]\n",
    "pos = 2\n",
    "list_2 = [x for x in len list_1]\n",
    "\n",
    "\n",
    "for i in range(lenght -1):\n",
    "    print(list_1[i])\n",
    "    if \n",
    "    \n",
    "    "
   ]
  },
  {
   "cell_type": "code",
   "execution_count": 29,
   "id": "07d0bb55",
   "metadata": {},
   "outputs": [],
   "source": [
    "import re\n",
    "web = 'www.google.co.uk'\n",
    "\n",
    "reg_exp_1 = '(?<=www.)\\S(?=\\.)(.*?)'\n",
    "reg_exp_2 = '(?<=\\\\)\\S(?=\\.)(.*?)'\n",
    "\n",
    "if 'www.' in web:\n",
    "    re.findall(reg_exp_1, web)\n",
    "else:\n",
    "    re.findall(reg_exp_2, web)"
   ]
  },
  {
   "cell_type": "code",
   "execution_count": 43,
   "id": "4a17e90d",
   "metadata": {},
   "outputs": [],
   "source": [
    "def dominio(web):\n",
    "    import re\n",
    "    reg_exp_1 = '(?<=www.)\\S*(?=\\.)'\n",
    "    reg_exp_2 = '(?<=\\\\)\\S*(?=\\.)'\n",
    "    \n",
    "    if 'www.' in web:\n",
    "        return re.findall(reg_exp_1, web)\n",
    "    else:\n",
    "        return re.findall(reg_exp_2, web)"
   ]
  },
  {
   "cell_type": "code",
   "execution_count": 44,
   "id": "eaa53074",
   "metadata": {},
   "outputs": [
    {
     "data": {
      "text/plain": [
       "['google.co']"
      ]
     },
     "execution_count": 44,
     "metadata": {},
     "output_type": "execute_result"
    }
   ],
   "source": [
    "dominio('www.google.co.uk')"
   ]
  },
  {
   "cell_type": "code",
   "execution_count": null,
   "id": "93f26b97",
   "metadata": {},
   "outputs": [],
   "source": []
  }
 ],
 "metadata": {
  "kernelspec": {
   "display_name": "Python [conda env:jp_env] *",
   "language": "python",
   "name": "conda-env-jp_env-py"
  },
  "language_info": {
   "codemirror_mode": {
    "name": "ipython",
    "version": 3
   },
   "file_extension": ".py",
   "mimetype": "text/x-python",
   "name": "python",
   "nbconvert_exporter": "python",
   "pygments_lexer": "ipython3",
   "version": "3.10.9"
  }
 },
 "nbformat": 4,
 "nbformat_minor": 5
}
