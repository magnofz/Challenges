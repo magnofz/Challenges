{
 "cells": [
  {
   "cell_type": "markdown",
   "id": "7f429c89",
   "metadata": {},
   "source": [
    "DESCRIPTION:\n",
    "The Western Suburbs Croquet Club has two categories of membership, Senior and Open. They would like your help with an application form that will tell prospective members which category they will be placed.\n",
    "\n",
    "To be a senior, a member must be at least 55 years old and have a handicap greater than 7. In this croquet club, handicaps range from -2 to +26; the better the player the lower the handicap.\n",
    "\n",
    "Input\n",
    "Input will consist of a list of pairs. Each pair contains information for a single potential member. Information consists of an integer for the person's age and an integer for the person's handicap.\n",
    "\n",
    "Output\n",
    "Output will consist of a list of string values (in Haskell and C: Open or Senior) stating whether the respective member is to be placed in the senior or open category."
   ]
  },
  {
   "cell_type": "code",
   "execution_count": 2,
   "id": "81f73afd",
   "metadata": {},
   "outputs": [
    {
     "data": {
      "text/plain": [
       "['Open', 'Senior', 'Open', 'Senior']"
      ]
     },
     "execution_count": 2,
     "metadata": {},
     "output_type": "execute_result"
    }
   ],
   "source": [
    "data = [(45, 12),(55,21),(19, -2),(104, 20)]\n",
    "\n",
    "test = []\n",
    "\n",
    "for i in data:\n",
    "    if i[0] < 55 or i[1] < 8:\n",
    "        test.append('Open')\n",
    "    else:\n",
    "        test.append('Senior')\n",
    "test"
   ]
  },
  {
   "cell_type": "code",
   "execution_count": 6,
   "id": "584e7dbe",
   "metadata": {},
   "outputs": [],
   "source": [
    "def open_or_senior(data):\n",
    "    return [\"Open\" if i[0] < 55 or i[1] < 8 else \"Senior\" for i in data]"
   ]
  }
 ],
 "metadata": {
  "kernelspec": {
   "display_name": "Python [conda env:jp_env] *",
   "language": "python",
   "name": "conda-env-jp_env-py"
  },
  "language_info": {
   "codemirror_mode": {
    "name": "ipython",
    "version": 3
   },
   "file_extension": ".py",
   "mimetype": "text/x-python",
   "name": "python",
   "nbconvert_exporter": "python",
   "pygments_lexer": "ipython3",
   "version": "3.10.9"
  }
 },
 "nbformat": 4,
 "nbformat_minor": 5
}
