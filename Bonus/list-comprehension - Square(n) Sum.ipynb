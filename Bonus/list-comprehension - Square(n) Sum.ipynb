{
 "cells": [
  {
   "cell_type": "markdown",
   "id": "430e1c39",
   "metadata": {},
   "source": [
    "Complete the square sum function so that it squares each number passed into it and then sums the results together.\n",
    "\n",
    "For example, for [1, 2, 2] it should return 9"
   ]
  },
  {
   "cell_type": "code",
   "execution_count": 2,
   "id": "39dda311",
   "metadata": {},
   "outputs": [
    {
     "name": "stdout",
     "output_type": "stream",
     "text": [
      "14\n"
     ]
    }
   ],
   "source": [
    "lst = [1, 2, 3]\n",
    "\n",
    "sq = sum(i*i for i in lst)\n",
    "\n",
    "print(sq)"
   ]
  },
  {
   "cell_type": "code",
   "execution_count": null,
   "id": "62e25798",
   "metadata": {},
   "outputs": [],
   "source": [
    "def square_sum(numbers):\n",
    "    return sum(i*i for i in numbers)"
   ]
  }
 ],
 "metadata": {
  "kernelspec": {
   "display_name": "Python [conda env:jp_env] *",
   "language": "python",
   "name": "conda-env-jp_env-py"
  },
  "language_info": {
   "codemirror_mode": {
    "name": "ipython",
    "version": 3
   },
   "file_extension": ".py",
   "mimetype": "text/x-python",
   "name": "python",
   "nbconvert_exporter": "python",
   "pygments_lexer": "ipython3",
   "version": "3.10.9"
  }
 },
 "nbformat": 4,
 "nbformat_minor": 5
}
