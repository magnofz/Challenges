{
 "cells": [
  {
   "cell_type": "code",
   "execution_count": 9,
   "id": "63658363",
   "metadata": {},
   "outputs": [],
   "source": [
    "class Quark(object):\n",
    "    def __init__(self, color, flavor):\n",
    "        self.color = self.valid_color(color)\n",
    "        self.flavor = self.valid_flavor(flavor)\n",
    "        self.baryon_number = 1/3\n",
    "    \n",
    "    def valid_color(self, name):\n",
    "        color_list = [\"red\", \"blue\", \"green\"]\n",
    "        if name not in color_list:\n",
    "            raise ValueError(\"Not a valid color.\")\n",
    "        else:\n",
    "            return name\n",
    "    \n",
    "    def valid_flavor(self, flavor):\n",
    "        flavor_list = ['up', 'down', 'strange', 'charm', 'top', 'bottom']\n",
    "        if flavor not in flavor_list:\n",
    "            raise ValueError(\"Not a valid flavor.\")\n",
    "        else:\n",
    "            return flavor\n",
    "    \n",
    "    def interact(self, other):\n",
    "        color_x = self.color\n",
    "        self.color = other.color\n",
    "        other.color = color_x"
   ]
  },
  {
   "cell_type": "code",
   "execution_count": 13,
   "id": "39ff5629",
   "metadata": {},
   "outputs": [],
   "source": [
    "q1 = Quark(color = \"red\", flavor = 'up')"
   ]
  },
  {
   "cell_type": "code",
   "execution_count": 6,
   "id": "d8e341d3",
   "metadata": {},
   "outputs": [
    {
     "data": {
      "text/plain": [
       "['red', 'blue']"
      ]
     },
     "execution_count": 6,
     "metadata": {},
     "output_type": "execute_result"
    }
   ],
   "source": [
    "q1.color"
   ]
  }
 ],
 "metadata": {
  "kernelspec": {
   "display_name": "Python [conda env:jp_env] *",
   "language": "python",
   "name": "conda-env-jp_env-py"
  },
  "language_info": {
   "codemirror_mode": {
    "name": "ipython",
    "version": 3
   },
   "file_extension": ".py",
   "mimetype": "text/x-python",
   "name": "python",
   "nbconvert_exporter": "python",
   "pygments_lexer": "ipython3",
   "version": "3.10.9"
  }
 },
 "nbformat": 4,
 "nbformat_minor": 5
}
