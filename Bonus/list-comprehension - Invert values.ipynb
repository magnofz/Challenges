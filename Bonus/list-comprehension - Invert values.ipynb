{
 "cells": [
  {
   "cell_type": "markdown",
   "id": "4cfd39b1",
   "metadata": {},
   "source": [
    "Given a set of numbers, return the additive inverse of each. Each positive becomes negatives, and the negatives become positives."
   ]
  },
  {
   "cell_type": "code",
   "execution_count": 1,
   "id": "e76e84ff",
   "metadata": {},
   "outputs": [
    {
     "name": "stdout",
     "output_type": "stream",
     "text": [
      "[-1, -2, -3, -4, -5]\n"
     ]
    }
   ],
   "source": [
    "lst = [1,2,3,4,5]\n",
    "\n",
    "invert = [i * -1 for i in lst]\n",
    "\n",
    "print(invert)"
   ]
  },
  {
   "cell_type": "code",
   "execution_count": null,
   "id": "6706df3c",
   "metadata": {},
   "outputs": [],
   "source": [
    "def invert(lst):\n",
    "    return [i * -1 for i in lst]"
   ]
  }
 ],
 "metadata": {
  "kernelspec": {
   "display_name": "Python [conda env:jp_env] *",
   "language": "python",
   "name": "conda-env-jp_env-py"
  },
  "language_info": {
   "codemirror_mode": {
    "name": "ipython",
    "version": 3
   },
   "file_extension": ".py",
   "mimetype": "text/x-python",
   "name": "python",
   "nbconvert_exporter": "python",
   "pygments_lexer": "ipython3",
   "version": "3.10.9"
  }
 },
 "nbformat": 4,
 "nbformat_minor": 5
}
