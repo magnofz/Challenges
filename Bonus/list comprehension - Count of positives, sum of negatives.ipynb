{
 "cells": [
  {
   "cell_type": "markdown",
   "id": "96cdf201",
   "metadata": {},
   "source": [
    "Given an array of integers.\n",
    "\n",
    "Return an array, where the first element is the count of positives numbers and the second element is sum of negative numbers. 0 is neither positive nor negative.\n",
    "\n",
    "If the input is an empty array or is null, return an empty array."
   ]
  },
  {
   "cell_type": "code",
   "execution_count": 45,
   "id": "97a214ac",
   "metadata": {},
   "outputs": [
    {
     "data": {
      "text/plain": [
       "[]"
      ]
     },
     "execution_count": 45,
     "metadata": {},
     "output_type": "execute_result"
    }
   ],
   "source": [
    "arr = [0, 0]\n",
    "\n",
    "ab = [len([x for x in arr if x > 0]), sum(i for i in arr if i < 0)]\n",
    "\n",
    "ac = []\n",
    "ac"
   ]
  },
  {
   "cell_type": "code",
   "execution_count": 46,
   "id": "abf70538",
   "metadata": {},
   "outputs": [],
   "source": [
    "def count_positives_sum_negatives(arr):\n",
    "    return [] if arr == [] else [len([x for x in arr if x > 0]), sum(i for i in arr if i < 0)]"
   ]
  },
  {
   "cell_type": "code",
   "execution_count": 35,
   "id": "f069e48e",
   "metadata": {},
   "outputs": [
    {
     "name": "stdout",
     "output_type": "stream",
     "text": [
      "[]\n",
      "<class 'list'>\n"
     ]
    }
   ],
   "source": [
    "print(count_positives_sum_negatives(arr))\n",
    "print(type(count_positives_sum_negatives(arr)))"
   ]
  }
 ],
 "metadata": {
  "kernelspec": {
   "display_name": "Python [conda env:jp_env] *",
   "language": "python",
   "name": "conda-env-jp_env-py"
  },
  "language_info": {
   "codemirror_mode": {
    "name": "ipython",
    "version": 3
   },
   "file_extension": ".py",
   "mimetype": "text/x-python",
   "name": "python",
   "nbconvert_exporter": "python",
   "pygments_lexer": "ipython3",
   "version": "3.10.9"
  }
 },
 "nbformat": 4,
 "nbformat_minor": 5
}
