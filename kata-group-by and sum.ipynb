{
 "cells": [
  {
   "cell_type": "code",
   "execution_count": 1,
   "id": "92507f67",
   "metadata": {},
   "outputs": [],
   "source": [
    "arr = [\n",
    "  [1, 6, 2, 10],\n",
    "  [8, 9, 4, 11],\n",
    "  [9, 8, 7, 12],\n",
    "  [1, 6, 3, 20],\n",
    "]\n",
    "\n",
    "idx = [0, 1]\n",
    "\n",
    "not_idx = [n for n in range(len(arr[0])) if n not in idx]\n",
    "l_not_idx = len(not_idx)"
   ]
  },
  {
   "cell_type": "code",
   "execution_count": 5,
   "id": "2c2368ee",
   "metadata": {},
   "outputs": [
    {
     "data": {
      "text/plain": [
       "[(1, 6), (8, 9), (9, 8), (1, 6)]"
      ]
     },
     "execution_count": 5,
     "metadata": {},
     "output_type": "execute_result"
    }
   ],
   "source": [
    "dict_keys = [tuple([i[x] for x in idx]) for i in arr]\n",
    "dict_keys"
   ]
  },
  {
   "cell_type": "code",
   "execution_count": 6,
   "id": "d5f72933",
   "metadata": {},
   "outputs": [
    {
     "data": {
      "text/plain": [
       "[(1, 6), (8, 9), (9, 8)]"
      ]
     },
     "execution_count": 6,
     "metadata": {},
     "output_type": "execute_result"
    }
   ],
   "source": [
    "uniq_keys = list(dict.fromkeys(dict_keys))\n",
    "uniq_keys"
   ]
  },
  {
   "cell_type": "code",
   "execution_count": 3,
   "id": "b47d4e63",
   "metadata": {},
   "outputs": [
    {
     "data": {
      "text/plain": [
       "[[2, 10], [4, 11], [7, 12], [3, 20]]"
      ]
     },
     "execution_count": 3,
     "metadata": {},
     "output_type": "execute_result"
    }
   ],
   "source": [
    "dict_values = [[i[x] for x in not_idx] for i in arr]\n",
    "dict_values"
   ]
  },
  {
   "cell_type": "code",
   "execution_count": 7,
   "id": "f5305716",
   "metadata": {},
   "outputs": [
    {
     "data": {
      "text/plain": [
       "{(1, 6): [0, 0], (8, 9): [0, 0], (9, 8): [0, 0]}"
      ]
     },
     "execution_count": 7,
     "metadata": {},
     "output_type": "execute_result"
    }
   ],
   "source": [
    "output = {}\n",
    "for i in uniq_keys:\n",
    "    output[i] = [0] * l_not_idx\n",
    "output"
   ]
  },
  {
   "cell_type": "code",
   "execution_count": 8,
   "id": "8fc0a44d",
   "metadata": {},
   "outputs": [],
   "source": [
    "for i in range(len(dict_keys)):\n",
    "    for x in range(l_not_idx):\n",
    "        output[tuple(dict_keys[i])][x] = output[tuple(dict_keys[i])][x] + dict_values[i][x]"
   ]
  },
  {
   "cell_type": "code",
   "execution_count": 9,
   "id": "fe6133ee",
   "metadata": {},
   "outputs": [
    {
     "data": {
      "text/plain": [
       "{(1, 6): [5, 30], (8, 9): [4, 11], (9, 8): [7, 12]}"
      ]
     },
     "execution_count": 9,
     "metadata": {},
     "output_type": "execute_result"
    }
   ],
   "source": [
    "output"
   ]
  },
  {
   "cell_type": "code",
   "execution_count": 11,
   "id": "91ad029f",
   "metadata": {},
   "outputs": [],
   "source": [
    "# funcion:\n",
    "\n",
    "def group(arr, idx):\n",
    "    not_idx = [n for n in range(len(arr[0])) if n not in idx]\n",
    "    l_not_idx = len(not_idx)\n",
    "    \n",
    "    dict_keys = [tuple([i[x] for x in idx]) for i in arr]\n",
    "    \n",
    "    uniq_keys = list(dict.fromkeys(dict_keys))\n",
    "    \n",
    "    dict_values = [[i[x] for x in not_idx] for i in arr]\n",
    "    \n",
    "    output = {}\n",
    "    \n",
    "    for i in uniq_keys:\n",
    "        output[i] = [0] * l_not_idx\n",
    "    \n",
    "    for i in range(len(dict_keys)):\n",
    "        for x in range(l_not_idx):\n",
    "            output[tuple(dict_keys[i])][x] = output[tuple(dict_keys[i])][x] + dict_values[i][x]\n",
    "    \n",
    "    \n",
    "    return output"
   ]
  },
  {
   "cell_type": "code",
   "execution_count": null,
   "id": "aa57bda5",
   "metadata": {},
   "outputs": [],
   "source": []
  }
 ],
 "metadata": {
  "kernelspec": {
   "display_name": "Python [conda env:m1_env]",
   "language": "python",
   "name": "conda-env-m1_env-py"
  },
  "language_info": {
   "codemirror_mode": {
    "name": "ipython",
    "version": 3
   },
   "file_extension": ".py",
   "mimetype": "text/x-python",
   "name": "python",
   "nbconvert_exporter": "python",
   "pygments_lexer": "ipython3",
   "version": "3.10.9"
  }
 },
 "nbformat": 4,
 "nbformat_minor": 5
}
