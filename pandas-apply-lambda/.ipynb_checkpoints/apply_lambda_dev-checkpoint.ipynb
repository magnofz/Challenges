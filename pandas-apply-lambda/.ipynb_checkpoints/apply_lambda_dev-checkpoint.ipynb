{
 "cells": [
  {
   "cell_type": "code",
   "execution_count": 1,
   "id": "c6f055e3",
   "metadata": {},
   "outputs": [],
   "source": [
    "import pandas as pd"
   ]
  },
  {
   "cell_type": "code",
   "execution_count": 2,
   "id": "e6ec7781",
   "metadata": {},
   "outputs": [],
   "source": [
    "df = pd.read_csv('./data/input/IMDB-Movie-Data.csv')"
   ]
  },
  {
   "cell_type": "markdown",
   "id": "392872c8",
   "metadata": {},
   "source": [
    "## Challenge 1\n",
    "\n",
    "We want to create bins of movies according to the number of votes they've received. For that matter, we will create a new column named 'bin' which will tag every movie as follow:\n",
    "\n",
    "From 0 to 999 ==> 1\n",
    "From 1000 to 9999 ==> 2\n",
    "From 10000 to 99999 ==> 3\n",
    "From 100000 to 999999 ==> 4\n",
    "More than 1000000 ==> 5"
   ]
  },
  {
   "cell_type": "code",
   "execution_count": 3,
   "id": "ef7139ee",
   "metadata": {},
   "outputs": [],
   "source": [
    "def bins(votes):\n",
    "    if len(str(votes)) > 6:\n",
    "        return 5\n",
    "    elif len(str(votes)) <= 3:\n",
    "        return 1\n",
    "    else:\n",
    "        return len(str(votes)) - 2"
   ]
  },
  {
   "cell_type": "markdown",
   "id": "b61856b4",
   "metadata": {},
   "source": [
    "From 0 to 999 ==> 1\n",
    "From 1000 to 9999 ==> 2\n",
    "From 10000 to 99999 ==> 3\n",
    "From 100000 to 999999 ==> 4\n",
    "More than 1000000 ==> 5"
   ]
  },
  {
   "cell_type": "code",
   "execution_count": 4,
   "id": "d1b33925",
   "metadata": {},
   "outputs": [],
   "source": [
    "df['bin'] = df.apply(lambda x: bins(x['Votes']), axis=1)"
   ]
  },
  {
   "cell_type": "markdown",
   "id": "5a1e98e6",
   "metadata": {},
   "source": [
    "## Challenge 2. Using axis concept\n",
    "We want to know how much is the revenue per minute for every movie."
   ]
  },
  {
   "cell_type": "code",
   "execution_count": 5,
   "id": "53beeb8d",
   "metadata": {},
   "outputs": [
    {
     "data": {
      "text/plain": [
       "Title\n",
       "Star Wars: Episode VII - The Force Awakens    936.63\n",
       "Avatar                                        760.51\n",
       "Jurassic World                                652.18\n",
       "The Avengers                                  623.28\n",
       "The Dark Knight                               533.32\n",
       "Name: Revenue (Millions), dtype: float64"
      ]
     },
     "execution_count": 5,
     "metadata": {},
     "output_type": "execute_result"
    }
   ],
   "source": [
    "df_revenue = df.groupby(['Title'])['Revenue (Millions)'].sum().sort_values(ascending = False)\n",
    "df_revenue.head()"
   ]
  },
  {
   "cell_type": "markdown",
   "id": "d844feec",
   "metadata": {},
   "source": [
    "## Challenge 3. Using the lambda\n",
    "We want to create a new ranking where we add 1 point if the genre is thriller but subtract 1 point if the genre is comedy."
   ]
  },
  {
   "cell_type": "code",
   "execution_count": 6,
   "id": "efbdefae",
   "metadata": {},
   "outputs": [],
   "source": [
    "df_nr = df.copy()"
   ]
  },
  {
   "cell_type": "code",
   "execution_count": 7,
   "id": "ea392940",
   "metadata": {},
   "outputs": [],
   "source": [
    "df_nr['Metascore'] = df_nr.apply(lambda x: x['Metascore'] + 1 if 'thriller' in x['Genre'].lower()\\\n",
    "                                 else x['Metascore'] - 1 if 'comedy' in x['Genre'].lower() else x['Metascore'], axis = 1)"
   ]
  },
  {
   "cell_type": "code",
   "execution_count": 8,
   "id": "f413f844",
   "metadata": {},
   "outputs": [
    {
     "data": {
      "text/html": [
       "<div>\n",
       "<style scoped>\n",
       "    .dataframe tbody tr th:only-of-type {\n",
       "        vertical-align: middle;\n",
       "    }\n",
       "\n",
       "    .dataframe tbody tr th {\n",
       "        vertical-align: top;\n",
       "    }\n",
       "\n",
       "    .dataframe thead th {\n",
       "        text-align: right;\n",
       "    }\n",
       "</style>\n",
       "<table border=\"1\" class=\"dataframe\">\n",
       "  <thead>\n",
       "    <tr style=\"text-align: right;\">\n",
       "      <th></th>\n",
       "      <th>Rank</th>\n",
       "      <th>Title</th>\n",
       "      <th>Genre</th>\n",
       "      <th>Description</th>\n",
       "      <th>Director</th>\n",
       "      <th>Actors</th>\n",
       "      <th>Year</th>\n",
       "      <th>Runtime (Minutes)</th>\n",
       "      <th>Rating</th>\n",
       "      <th>Votes</th>\n",
       "      <th>Revenue (Millions)</th>\n",
       "      <th>Metascore</th>\n",
       "      <th>bin</th>\n",
       "    </tr>\n",
       "  </thead>\n",
       "  <tbody>\n",
       "    <tr>\n",
       "      <th>0</th>\n",
       "      <td>55</td>\n",
       "      <td>The Dark Knight</td>\n",
       "      <td>Action,Crime,Drama</td>\n",
       "      <td>When the menace known as the Joker wreaks havo...</td>\n",
       "      <td>Christopher Nolan</td>\n",
       "      <td>Christian Bale, Heath Ledger, Aaron Eckhart,Mi...</td>\n",
       "      <td>2008</td>\n",
       "      <td>152</td>\n",
       "      <td>9.0</td>\n",
       "      <td>1791916</td>\n",
       "      <td>533.32</td>\n",
       "      <td>82.0</td>\n",
       "      <td>5</td>\n",
       "    </tr>\n",
       "    <tr>\n",
       "      <th>1</th>\n",
       "      <td>145</td>\n",
       "      <td>Django Unchained</td>\n",
       "      <td>Drama,Western</td>\n",
       "      <td>With the help of a German bounty hunter , a fr...</td>\n",
       "      <td>Quentin Tarantino</td>\n",
       "      <td>Jamie Foxx, Christoph Waltz, Leonardo DiCaprio...</td>\n",
       "      <td>2012</td>\n",
       "      <td>165</td>\n",
       "      <td>8.4</td>\n",
       "      <td>1039115</td>\n",
       "      <td>162.80</td>\n",
       "      <td>81.0</td>\n",
       "      <td>5</td>\n",
       "    </tr>\n",
       "    <tr>\n",
       "      <th>2</th>\n",
       "      <td>125</td>\n",
       "      <td>The Dark Knight Rises</td>\n",
       "      <td>Action,Thriller</td>\n",
       "      <td>Eight years after the Joker's reign of anarchy...</td>\n",
       "      <td>Christopher Nolan</td>\n",
       "      <td>Christian Bale, Tom Hardy, Anne Hathaway,Gary ...</td>\n",
       "      <td>2012</td>\n",
       "      <td>164</td>\n",
       "      <td>8.5</td>\n",
       "      <td>1222645</td>\n",
       "      <td>448.13</td>\n",
       "      <td>79.0</td>\n",
       "      <td>5</td>\n",
       "    </tr>\n",
       "  </tbody>\n",
       "</table>\n",
       "</div>"
      ],
      "text/plain": [
       "   Rank                  Title               Genre  \\\n",
       "0    55        The Dark Knight  Action,Crime,Drama   \n",
       "1   145       Django Unchained       Drama,Western   \n",
       "2   125  The Dark Knight Rises     Action,Thriller   \n",
       "\n",
       "                                         Description           Director  \\\n",
       "0  When the menace known as the Joker wreaks havo...  Christopher Nolan   \n",
       "1  With the help of a German bounty hunter , a fr...  Quentin Tarantino   \n",
       "2  Eight years after the Joker's reign of anarchy...  Christopher Nolan   \n",
       "\n",
       "                                              Actors  Year  Runtime (Minutes)  \\\n",
       "0  Christian Bale, Heath Ledger, Aaron Eckhart,Mi...  2008                152   \n",
       "1  Jamie Foxx, Christoph Waltz, Leonardo DiCaprio...  2012                165   \n",
       "2  Christian Bale, Tom Hardy, Anne Hathaway,Gary ...  2012                164   \n",
       "\n",
       "   Rating    Votes  Revenue (Millions)  Metascore  bin  \n",
       "0     9.0  1791916              533.32       82.0    5  \n",
       "1     8.4  1039115              162.80       81.0    5  \n",
       "2     8.5  1222645              448.13       79.0    5  "
      ]
     },
     "execution_count": 8,
     "metadata": {},
     "output_type": "execute_result"
    }
   ],
   "source": [
    "df_nr.sort_values(['bin', 'Metascore'], ascending = [False, False], inplace = True, ignore_index=True)\n",
    "\n",
    "df_nr.head(3)"
   ]
  },
  {
   "cell_type": "markdown",
   "id": "1e30b51b",
   "metadata": {},
   "source": [
    "## Challenge 4. Now the real stuff\n",
    "We want to know if the sum of the ASCII value of every character of the movie title divided by the number of votes retrieve a prime number...remember, prime numbers are integers."
   ]
  },
  {
   "cell_type": "code",
   "execution_count": 16,
   "id": "1a292394",
   "metadata": {},
   "outputs": [],
   "source": [
    "df_nr['Votes/ASCII'] = df_nr.apply(lambda x: x['Votes']/sum(ord(y) for y in x['Title']), axis=1)"
   ]
  },
  {
   "cell_type": "code",
   "execution_count": 17,
   "id": "5b6fb54d",
   "metadata": {},
   "outputs": [],
   "source": [
    "def is_prime(n):\n",
    "    if n != int or n < 2:\n",
    "        return False\n",
    "    elif n == 1 or n == 2:\n",
    "        return True\n",
    "    else:\n",
    "        for i in range(2,n):\n",
    "            if (n%i) == 0:\n",
    "                return False\n",
    "            return True"
   ]
  },
  {
   "cell_type": "code",
   "execution_count": 33,
   "id": "40599ab0",
   "metadata": {},
   "outputs": [],
   "source": [
    "df_nr['Prime'] = df_nr.apply(lambda x: is_prime(x['Votes/ASCII']), axis=1 )"
   ]
  },
  {
   "cell_type": "code",
   "execution_count": 32,
   "id": "cd2fc26d",
   "metadata": {},
   "outputs": [],
   "source": [
    "df_nr.drop('Prime', axis=1, inplace=True)"
   ]
  },
  {
   "cell_type": "code",
   "execution_count": 34,
   "id": "71109465",
   "metadata": {},
   "outputs": [
    {
     "data": {
      "text/plain": [
       "array([False])"
      ]
     },
     "execution_count": 34,
     "metadata": {},
     "output_type": "execute_result"
    }
   ],
   "source": [
    "df_nr['Prime'].unique()"
   ]
  }
 ],
 "metadata": {
  "kernelspec": {
   "display_name": "Python [conda env:m1_env]",
   "language": "python",
   "name": "conda-env-m1_env-py"
  },
  "language_info": {
   "codemirror_mode": {
    "name": "ipython",
    "version": 3
   },
   "file_extension": ".py",
   "mimetype": "text/x-python",
   "name": "python",
   "nbconvert_exporter": "python",
   "pygments_lexer": "ipython3",
   "version": "3.10.9"
  }
 },
 "nbformat": 4,
 "nbformat_minor": 5
}
