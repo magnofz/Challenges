{
 "cells": [
  {
   "cell_type": "code",
   "execution_count": null,
   "id": "7b6b13d9",
   "metadata": {},
   "outputs": [],
   "source": [
    "Given a string of arbitrary length with any ascii characters. Write a function to determine whether the string contains the whole word \"English\".\n",
    "\n",
    "The order of characters is important -- a string \"abcEnglishdef\" is correct but \"abcnEglishsef\" is not correct.\n",
    "\n",
    "Upper or lower case letter does not matter -- \"eNglisH\" is also correct.\n",
    "\n",
    "Return value as boolean values, true for the string to contains \"English\", false for it does not."
   ]
  },
  {
   "cell_type": "markdown",
   "id": "e3658910",
   "metadata": {},
   "source": [
    "input: Variable de entrada\n",
    "transformar input in lower case\n",
    "\n",
    "buscar 'english' in var_lower"
   ]
  },
  {
   "cell_type": "code",
   "execution_count": 1,
   "id": "e8f2bc36",
   "metadata": {},
   "outputs": [],
   "source": [
    "def buscar_english(sentence):\n",
    "    sent_lower = sentence.lower()\n",
    "    return 'english' in sent_lower"
   ]
  },
  {
   "cell_type": "code",
   "execution_count": null,
   "id": "495fed9b",
   "metadata": {},
   "outputs": [],
   "source": []
  }
 ],
 "metadata": {
  "kernelspec": {
   "display_name": "Python [conda env:m1_env]",
   "language": "python",
   "name": "conda-env-m1_env-py"
  },
  "language_info": {
   "codemirror_mode": {
    "name": "ipython",
    "version": 3
   },
   "file_extension": ".py",
   "mimetype": "text/x-python",
   "name": "python",
   "nbconvert_exporter": "python",
   "pygments_lexer": "ipython3",
   "version": "3.10.9"
  }
 },
 "nbformat": 4,
 "nbformat_minor": 5
}
