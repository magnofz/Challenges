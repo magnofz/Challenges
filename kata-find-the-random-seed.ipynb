{
 "cells": [
  {
   "cell_type": "code",
   "execution_count": 20,
   "id": "a6a404c0",
   "metadata": {},
   "outputs": [
    {
     "data": {
      "text/plain": [
       "[17, 72, 97, 8, 32, 15, 63, 57, 60, 83]"
      ]
     },
     "execution_count": 20,
     "metadata": {},
     "output_type": "execute_result"
    }
   ],
   "source": [
    "import random\n",
    "\n",
    "def find_random_seed(lst):\n",
    "    \n",
    "    test = []\n",
    "    i = 0\n",
    "    \n",
    "    while test != lst:\n",
    "        random.seed(i)\n",
    "        test = [random.randint(0, 100) for x in range(0,10)]\n",
    "        i += 1\n",
    "        \n",
    "    return i - 1"
   ]
  }
 ],
 "metadata": {
  "kernelspec": {
   "display_name": "Python [conda env:m1_env]",
   "language": "python",
   "name": "conda-env-m1_env-py"
  },
  "language_info": {
   "codemirror_mode": {
    "name": "ipython",
    "version": 3
   },
   "file_extension": ".py",
   "mimetype": "text/x-python",
   "name": "python",
   "nbconvert_exporter": "python",
   "pygments_lexer": "ipython3",
   "version": "3.10.9"
  }
 },
 "nbformat": 4,
 "nbformat_minor": 5
}
